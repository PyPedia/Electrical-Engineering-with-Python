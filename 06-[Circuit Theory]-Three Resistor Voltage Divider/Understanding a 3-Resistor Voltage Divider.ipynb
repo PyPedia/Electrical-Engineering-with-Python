{
 "cells": [
  {
   "attachments": {
    "0c04f102-757b-4d85-86ac-733db61c2b68.png": {
     "image/png": "[encoded data removed]"
    }
   },
   "cell_type": "markdown",
   "id": "fbe99e1e-1977-4a84-a1fa-5683239aa250",
   "metadata": {},
   "source": [
    "**Understanding a 3-Resistor Voltage Divider**\n",
    "\n",
    "A resistive voltage divider with three resistors is a circuit that splits an input voltage (𝑉<sub>in</sub>) into smaller output voltages based on the resistor values. Let's calculate the output voltage across different points step by step.\n",
    "\n",
    "**1. Circuit Configuration**\n",
    "\n",
    "The input voltage 𝑉<sub>in</sub> is applied across a series combination of three resistors 𝑅<sub>1</sub>, 𝑅<sub>2</sub>, and 𝑅<sub>3</sub>.\n",
    "\n",
    "**2. Diagram of the Circuit:**\n",
    "\n",
    "![0001.png](attachment:0c04f102-757b-4d85-86ac-733db61c2b68.png)\n",
    "\n",
    "**3. Calculate Total Resistance (𝑅<sub>total</sub>)**\n",
    "\n",
    "$$R_{total}=R_{1}+R_{2}+R_{3}$$\n",
    "\n",
    "**4. Voltage Across 𝑅<sub>1</sub> (𝑉<sub>𝑜𝑢𝑡1</sub>)**\n",
    "\n",
    "The output voltage at 𝑉<sub>𝑜𝑢𝑡1</sub> is the voltage drop across 𝑅<sub>1</sub>.\n",
    "\n",
    "$$V_{out1}=V_{in}\\frac{R_{1}}{R_{1}+R_{2}+R_{3}}$$\n",
    "\n",
    "**5. Voltage Across 𝑅<sub>2</sub> (𝑉<sub>𝑜𝑢𝑡2</sub>)**\n",
    "\n",
    "The output voltage at 𝑉<sub>𝑜𝑢𝑡2</sub> is the voltage drop across 𝑅<sub>2</sub>.\n",
    "\n",
    "$$V_{out2}=V_{in}\\frac{R_{2}}{R_{1}+R_{2}+R_{3}}$$\n",
    "\n",
    "**6. Voltage Across 𝑅<sub>3</sub> (𝑉<sub>𝑜𝑢𝑡3</sub>)**\n",
    "\n",
    "The output voltage at 𝑉<sub>𝑜𝑢𝑡3</sub> is the voltage drop across 𝑅<sub>3</sub>.\n",
    "\n",
    "$$V_{out1}=V_{in}\\frac{R_{3}}{R_{1}+R_{2}+R_{3}}$$"
   ]
  },
  {
   "cell_type": "markdown",
   "id": "706bfb56-d716-4c55-9290-375471019165",
   "metadata": {},
   "source": [
    "**7. Python Code**\n",
    "\n",
    "Here’s a Python program to model a 3-resistor voltage divider. The program calculates the output voltages across different points based on the input voltage and resistor values. Given:\n",
    "\n",
    "* 𝑉<sub>in</sub>=12V\n",
    "* 𝑅<sub>1</sub>=1 kΩ\n",
    "* 𝑅<sub>2</sub>=2 kΩ\n",
    "* 𝑅<sub>3</sub>=3 kΩ"
   ]
  },
  {
   "cell_type": "code",
   "execution_count": 6,
   "id": "008c8350-1c4e-4369-8602-f607a6552e91",
   "metadata": {},
   "outputs": [
    {
     "name": "stdout",
     "output_type": "stream",
     "text": [
      "Input Voltage (V_in): 12 V\n",
      "Resistance R1: 1.0 kΩ, R2: 2.0 kΩ, R3: 3.0 kΩ\n",
      "Output Voltage across R1 (V_out1): 2.00 V\n",
      "Output Voltage across R2 (V_out2): 4.00 V\n",
      "Output Voltage across R3 (V_out3): 6.00 V\n"
     ]
    }
   ],
   "source": [
    "def voltage_divider(v_in, r1, r2, r3):\n",
    "    # Calculate total resistance\n",
    "    r_total = r1 + r2 + r3\n",
    "    \n",
    "    # Voltage across R1 (V_out1)\n",
    "    v_out1 = v_in * (r1 / r_total)\n",
    "    \n",
    "    # Voltage across R2 (V_out2)\n",
    "    v_out2 = v_in * (r2 / r_total)\n",
    "\n",
    "    # Voltage across R3 (V_out3)\n",
    "    v_out3 = v_in * (r3 / r_total)    \n",
    "    \n",
    "    return v_out1, v_out2, v_out3\n",
    "\n",
    "# Example values\n",
    "v_in = 12  # Input voltage in volts\n",
    "r1 = 1000  # R1 in ohms (2kΩ)\n",
    "r2 = 2000  # R2 in ohms (3kΩ)\n",
    "r3 = 3000  # R3 in ohms (5kΩ)\n",
    "\n",
    "# Calculate output voltages\n",
    "v_out1, v_out2, v_out3 = voltage_divider(v_in, r1, r2, r3)\n",
    "\n",
    "# Display results\n",
    "print(f\"Input Voltage (V_in): {v_in} V\")\n",
    "print(f\"Resistance R1: {r1 / 1000} kΩ, R2: {r2 / 1000} kΩ, R3: {r3 / 1000} kΩ\")\n",
    "print(f\"Output Voltage across R1 (V_out1): {v_out1:.2f} V\")\n",
    "print(f\"Output Voltage across R2 (V_out2): {v_out2:.2f} V\")\n",
    "print(f\"Output Voltage across R3 (V_out3): {v_out3:.2f} V\")\n"
   ]
  }
 ],
 "metadata": {
  "kernelspec": {
   "display_name": "Python 3 (ipykernel)",
   "language": "python",
   "name": "python3"
  },
  "language_info": {
   "codemirror_mode": {
    "name": "ipython",
    "version": 3
   },
   "file_extension": ".py",
   "mimetype": "text/x-python",
   "name": "python",
   "nbconvert_exporter": "python",
   "pygments_lexer": "ipython3",
   "version": "3.12.2"
  }
 },
 "nbformat": 4,
 "nbformat_minor": 5
}
