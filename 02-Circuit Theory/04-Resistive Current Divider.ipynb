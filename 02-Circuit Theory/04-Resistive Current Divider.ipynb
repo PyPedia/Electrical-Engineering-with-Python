{
 "cells": [
  {
   "attachments": {
    "60b970df-300e-4f50-aeb9-e2b14de31626.png": {
     "image/png": "[encoded data removed]"
    }
   },
   "cell_type": "markdown",
   "id": "a93cb021-8ab7-4cf2-bbd6-cca0a71f8c76",
   "metadata": {},
   "source": [
    "**1. What is a Current Divider?**\n",
    "\n",
    "A current divider is a circuit that splits an input current (𝐼<sub>𝑖𝑛</sub>) into smaller currents among multiple parallel branches. It is based on the principle that the total current entering a parallel circuit is the sum of the currents through each branch.\n",
    "\n",
    "**2. Diagram of the Circuit:**\n",
    "\n",
    "![0002.png](attachment:60b970df-300e-4f50-aeb9-e2b14de31626.png)\n",
    "\n",
    "**3. Current Division Formula**\n",
    "\n",
    "For two resistors 𝑅<sub>1</sub> and 𝑅<sub>2</sub> in parallel, the current through 𝑅<sub>1</sub> (denoted 𝐼<sub>1</sub>) and 𝑅<sub>2</sub> (denoted 𝐼<sub>2</sub>) is given by:\n",
    "\n",
    "$$I_{1}=\\frac{R_{2}}{R_{1}+R_{2}}\\times I_{in}$$\n",
    "\n",
    "and\n",
    "\n",
    "$$I_{2}=\\frac{R_{1}}{R_{1}+R_{2}}\\times I_{in}$$\n",
    "\n",
    "**4. Proof of the Formula**\n",
    "\n",
    "* Ohm's Law: 𝑉=𝐼𝑅, where 𝑉 is voltage, 𝐼 is current, and 𝑅 is resistance.\n",
    "* Parallel Resistance Relationship: In parallel, the voltage across each resistor is the same:\n",
    "\n",
    "$$V=R_{1}I_{1}=R_{2}I_{2}$$\n",
    "\n",
    "* Total Current: The total input current splits:\n",
    "\n",
    "$$I_{in}=I_{1}+I_{2}$$\n",
    "\n",
    "* Express 𝐼<sub>1</sub> and 𝐼<sub>2</sub> in Terms of 𝑉:\n",
    "\n",
    "$$I_{1}=\\frac{V}{R_{1}}$$\n",
    "\n",
    "and\n",
    "\n",
    "$$I_{2}=\\frac{V}{R_{2}}$$\n",
    "\n",
    "* Substitute 𝐼<sub>1</sub> and 𝐼<sub>2</sub> into 𝐼𝑖𝑛:\n",
    "\n",
    "$$I_{in}=\\frac{V}{R_{1}}+\\frac{V}{R_{2}}\\Longrightarrow V=I_{in}\\times \\frac{R_{1}R_{2}}{R_{1}+R_{2}}$$\n",
    "\n",
    "* Substitute 𝑉 into 𝐼1:\n",
    "\n",
    "$$I_{1}=\\frac{V}{R_{1}}=\\frac{1}{R_{1}}\\times I_{in}\\times \\frac{R_{1}R_{2}}{R_{1}+R_{2}}=I_{in}\\times \\frac{R_{2}}{R_{1}+R_{2}}$$\n",
    "\n",
    "Similarly,\n",
    "\n",
    "$$I_{2}=I_{in}\\times \\frac{R_{1}}{R_{1}+R_{2}}$$\n",
    "\n",
    "**5. Python Code**\n",
    "\n",
    "Suppose 𝑅<sub>1</sub>=4Ω, 𝑅<sub>2</sub>=6Ω, and 𝐼<sub>i𝑛</sub>=10A. Here is a Python code snippet to solve the resistive current divider example:"
   ]
  },
  {
   "cell_type": "code",
   "execution_count": 1,
   "id": "8dff034f-234d-4384-aa1e-5c1bf17ac1dc",
   "metadata": {},
   "outputs": [
    {
     "name": "stdout",
     "output_type": "stream",
     "text": [
      "Current through R1 (I1): 6.00 A\n",
      "Current through R2 (I2): 4.00 A\n",
      "Total current (I_in): 10.00 A\n"
     ]
    }
   ],
   "source": [
    "# Define the resistances and input current\n",
    "R1 = 4  # Resistance of R1 in ohms\n",
    "R2 = 6  # Resistance of R2 in ohms\n",
    "I_in = 10  # Input current in amperes\n",
    "\n",
    "# Calculate the current through each resistor using the current divider formula\n",
    "I1 = (R2 / (R1 + R2)) * I_in  # Current through R1\n",
    "I2 = (R1 / (R1 + R2)) * I_in  # Current through R2\n",
    "\n",
    "# Display the results\n",
    "print(f\"Current through R1 (I1): {I1:.2f} A\")\n",
    "print(f\"Current through R2 (I2): {I2:.2f} A\")\n",
    "\n",
    "# Verification\n",
    "total_current = I1 + I2\n",
    "print(f\"Total current (I_in): {total_current:.2f} A\")"
   ]
  }
 ],
 "metadata": {
  "kernelspec": {
   "display_name": "Python 3 (ipykernel)",
   "language": "python",
   "name": "python3"
  },
  "language_info": {
   "codemirror_mode": {
    "name": "ipython",
    "version": 3
   },
   "file_extension": ".py",
   "mimetype": "text/x-python",
   "name": "python",
   "nbconvert_exporter": "python",
   "pygments_lexer": "ipython3",
   "version": "3.12.2"
  }
 },
 "nbformat": 4,
 "nbformat_minor": 5
}
