{
 "cells": [
  {
   "attachments": {
    "39a553cb-b709-4b50-bbe1-7c6114e0e5d6.png": {
     "image/png": "[encoded data removed]"
    }
   },
   "cell_type": "markdown",
   "id": "d71450a0-d804-4e9b-adcf-b5948b46a0b0",
   "metadata": {},
   "source": [
    "Ohm's Law is a fundamental principle in electrical engineering and physics that relates the voltage across a conductor to the current flowing through it, given its resistance. Here's a step-by-step explanation:\n",
    "\n",
    "**1. Ohm's Law Formula:**\n",
    "\n",
    "Ohm's Law states that the current 𝐼 flowing through a conductor is directly proportional to the voltage 𝑉 across it, and inversely proportional to its resistance 𝑅. Mathematically, this relationship can be expressed as:\n",
    "\n",
    "$$V=I\\times R$$\n",
    "\n",
    "Where:\n",
    "\n",
    "* 𝑉 is the voltage across the conductor (measured in volts, V),\n",
    "* 𝐼 is the current flowing through the conductor (measured in amperes, A),\n",
    "* 𝑅 is the resistance of the conductor (measured in ohms, Ω).\n",
    "\n",
    "![011.png](attachment:39a553cb-b709-4b50-bbe1-7c6114e0e5d6.png)\n",
    "\n",
    "**2. Using Ohm's Law:**\n",
    "\n",
    "If you know any two of the variables (voltage 𝑉, current 𝐼, or resistance 𝑅), you can use Ohm's Law to calculate the third.\n",
    "\n",
    "**3. Python Code**\n",
    "\n",
    "Here's a Python code snippet to calculate the current using Ohm's Law for the given example:"
   ]
  },
  {
   "cell_type": "code",
   "execution_count": 1,
   "id": "f030290f-05fe-4ab5-8f04-0e7b6d0cf8dc",
   "metadata": {},
   "outputs": [
    {
     "name": "stdout",
     "output_type": "stream",
     "text": [
      "Voltage (V): 12 V\n",
      "Resistance (R): 4 Ω\n",
      "Current (I): 3.00 A\n"
     ]
    }
   ],
   "source": [
    "# Function to calculate current using Ohm's Law\n",
    "def calculate_current(voltage, resistance):\n",
    "    if resistance == 0:\n",
    "        return \"Resistance cannot be zero (division by zero error).\"\n",
    "    return voltage / resistance\n",
    "\n",
    "# Given values\n",
    "voltage = 12  # in volts\n",
    "resistance = 4  # in ohms\n",
    "\n",
    "# Calculate current\n",
    "current = calculate_current(voltage, resistance)\n",
    "\n",
    "# Display the result\n",
    "print(f\"Voltage (V): {voltage} V\")\n",
    "print(f\"Resistance (R): {resistance} Ω\")\n",
    "print(f\"Current (I): {current:.2f} A\")"
   ]
  }
 ],
 "metadata": {
  "kernelspec": {
   "display_name": "Python 3 (ipykernel)",
   "language": "python",
   "name": "python3"
  },
  "language_info": {
   "codemirror_mode": {
    "name": "ipython",
    "version": 3
   },
   "file_extension": ".py",
   "mimetype": "text/x-python",
   "name": "python",
   "nbconvert_exporter": "python",
   "pygments_lexer": "ipython3",
   "version": "3.12.2"
  }
 },
 "nbformat": 4,
 "nbformat_minor": 5
}
