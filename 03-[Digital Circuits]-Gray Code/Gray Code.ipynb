{
 "cells": [
  {
   "cell_type": "markdown",
   "id": "af3f05e4-6573-4798-a43c-ab4763fc260e",
   "metadata": {},
   "source": [
    "**1. Understanding Gray Code: Step by Step**\n",
    "\n",
    "***What is Gray Code?***\n",
    "\n",
    "Gray Code is a binary numeral system where two successive values differ by only one bit. It is widely used in error correction, rotary encoders, Karnaugh maps, and digital circuit design.\n",
    "\n",
    "***Why Use Gray Code?***\n",
    "\n",
    "* Minimizes Errors: Only one bit changes at a time, reducing the chance of errors in digital communication.\n",
    "* Efficient for Rotational Systems: Used in rotary encoders to prevent misreading during transitions.\n",
    "* Karnaugh Maps (K-Maps): Helps in simplifying Boolean expressions in logic design.\n",
    "\n",
    "**2. Mathematical Basis of Gray Code**\n",
    "\n",
    "***Conversion from Binary to Gray Code***\n",
    "\n",
    "Gray Code 𝐺 is obtained from Binary Code 𝐵 using the formula:\n",
    "\n",
    "$$G_{n}=B_{n}\\oplus B_{n-1}$$\n",
    "\n",
    "Where:\n",
    "* ⊕ represents the XOR (exclusive OR) operation.\n",
    "* B<sub>n</sub> is the most significant bit (MSB).\n",
    "* B<sub>n-1</sub> is the previous bit.\n",
    "\n",
    "***Conversion from Gray Code to Binary***\n",
    "\n",
    "Binary Code 𝐵 is reconstructed from Gray Code 𝐺 using:\n",
    "\n",
    "$$B_{n}=G_{n}$$\n",
    "\n",
    "$$B_{n-1}=B_{n}\\oplus G_{n-1}$$\n",
    "\n",
    "$$B_{n-2}=B_{n-1}\\oplus G_{n-2}$$\n",
    "\n",
    "**3. Example: Binary to Gray Code Conversion**\n",
    "\n",
    "Convert Binary 1011 to Gray Code:\n",
    "\n",
    "* First bit remains the same:\n",
    "    * G<sub>3</sub>=B<sub>3</sub>=1\n",
    "* Apply XOR between consecutive bits:\n",
    "    * G<sub>2</sub>=B<sub>3</sub>⊕B<sub>2</sub>=1⊕0=1\n",
    "    * G<sub>1</sub>=B<sub>2</sub>⊕B<sub>1</sub>=0⊕1=1\n",
    "    * G<sub>0</sub>=B<sub>1</sub>⊕B<sub>0</sub>=1⊕1=0\n",
    "* Resulting Gray Code: 1110\n",
    "\n",
    "**4. Python Implementation**\n",
    "\n",
    "1. Binary to Gray Code"
   ]
  },
  {
   "cell_type": "code",
   "execution_count": 1,
   "id": "7500a542-bae8-47f1-a384-3637cef9a5c6",
   "metadata": {},
   "outputs": [
    {
     "name": "stdout",
     "output_type": "stream",
     "text": [
      "Binary: 1011 -> Gray Code: 1110\n"
     ]
    }
   ],
   "source": [
    "def binary_to_gray(binary):\n",
    "    \"\"\"Convert binary number (as a string) to Gray Code.\"\"\"\n",
    "    binary = int(binary, 2)  # Convert string to integer\n",
    "    gray = binary ^ (binary >> 1)  # XOR with shifted binary\n",
    "    return format(gray, 'b')  # Convert back to binary string\n",
    "\n",
    "# Example\n",
    "binary_num = \"1011\"\n",
    "gray_code = binary_to_gray(binary_num)\n",
    "print(f\"Binary: {binary_num} -> Gray Code: {gray_code}\")"
   ]
  },
  {
   "cell_type": "markdown",
   "id": "d6f332e8-b1b9-4eac-a546-d7a085c6e6b5",
   "metadata": {},
   "source": [
    "2. Gray Code to Binary"
   ]
  },
  {
   "cell_type": "code",
   "execution_count": 2,
   "id": "7c191c72-7ecc-4873-b104-57ffc00a389c",
   "metadata": {},
   "outputs": [
    {
     "name": "stdout",
     "output_type": "stream",
     "text": [
      "Gray Code: 1110 -> Binary: 1011\n"
     ]
    }
   ],
   "source": [
    "def gray_to_binary(gray):\n",
    "    \"\"\"Convert Gray Code (as a string) to binary.\"\"\"\n",
    "    gray = int(gray, 2)  # Convert string to integer\n",
    "    binary = gray  # First bit remains the same\n",
    "    mask = gray\n",
    "\n",
    "    while mask > 0:\n",
    "        mask = mask >> 1  # Shift right\n",
    "        binary = binary ^ mask  # XOR result with mask\n",
    "\n",
    "    return format(binary, 'b')  # Convert back to binary string\n",
    "\n",
    "# Example\n",
    "gray_code = \"1110\"\n",
    "binary_num = gray_to_binary(gray_code)\n",
    "print(f\"Gray Code: {gray_code} -> Binary: {binary_num}\")"
   ]
  },
  {
   "cell_type": "markdown",
   "id": "b622aaea-7de5-4c3c-9529-beba98b8b664",
   "metadata": {},
   "source": [
    "3. Generating an n-bit Gray Code Sequence"
   ]
  },
  {
   "cell_type": "code",
   "execution_count": 3,
   "id": "fb5716be-9751-42dc-85fa-78c5eae2bb4d",
   "metadata": {},
   "outputs": [
    {
     "name": "stdout",
     "output_type": "stream",
     "text": [
      "3-bit Gray Code Sequence: ['000', '001', '011', '010', '110', '111', '101', '100']\n"
     ]
    }
   ],
   "source": [
    "def generate_gray_code(n):\n",
    "    \"\"\"Generate an n-bit Gray Code sequence.\"\"\"\n",
    "    return [format(i ^ (i >> 1), f'0{n}b') for i in range(2**n)]\n",
    "\n",
    "# Example: Generate 3-bit Gray Code sequence\n",
    "n = 3\n",
    "gray_sequence = generate_gray_code(n)\n",
    "print(f\"{n}-bit Gray Code Sequence: {gray_sequence}\")"
   ]
  },
  {
   "cell_type": "markdown",
   "id": "ea8072b8-2064-4a02-ab04-62a32672b570",
   "metadata": {},
   "source": [
    "4. Generate Gray Code for a Given Range"
   ]
  },
  {
   "cell_type": "code",
   "execution_count": 4,
   "id": "21ab7479-21af-4f6b-b335-25b23888e23a",
   "metadata": {},
   "outputs": [
    {
     "name": "stdout",
     "output_type": "stream",
     "text": [
      "Decimal: 5 -> Gray Code: 111\n",
      "Decimal: 6 -> Gray Code: 101\n",
      "Decimal: 7 -> Gray Code: 100\n",
      "Decimal: 8 -> Gray Code: 1100\n",
      "Decimal: 9 -> Gray Code: 1101\n",
      "Decimal: 10 -> Gray Code: 1111\n"
     ]
    }
   ],
   "source": [
    "def gray_code_range(start, end):\n",
    "    \"\"\"Generate Gray Code for a range of decimal numbers.\"\"\"\n",
    "    return {i: format(i ^ (i >> 1), 'b') for i in range(start, end + 1)}\n",
    "\n",
    "# Example: Generate Gray Code for numbers 5 to 10\n",
    "gray_map = gray_code_range(5, 10)\n",
    "for num, gray in gray_map.items():\n",
    "    print(f\"Decimal: {num} -> Gray Code: {gray}\")"
   ]
  }
 ],
 "metadata": {
  "kernelspec": {
   "display_name": "Python 3 (ipykernel)",
   "language": "python",
   "name": "python3"
  },
  "language_info": {
   "codemirror_mode": {
    "name": "ipython",
    "version": 3
   },
   "file_extension": ".py",
   "mimetype": "text/x-python",
   "name": "python",
   "nbconvert_exporter": "python",
   "pygments_lexer": "ipython3",
   "version": "3.12.2"
  }
 },
 "nbformat": 4,
 "nbformat_minor": 5
}
