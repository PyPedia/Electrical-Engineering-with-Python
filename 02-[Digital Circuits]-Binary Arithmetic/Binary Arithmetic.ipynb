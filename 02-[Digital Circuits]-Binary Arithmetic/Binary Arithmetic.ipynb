{
 "cells": [
  {
   "cell_type": "markdown",
   "id": "cd67a9ef-7bba-4cf6-b8fd-e23cdf387935",
   "metadata": {},
   "source": [
    "Binary arithmetic follows the same principles as decimal arithmetic but operates in base-2 (using only 0s and 1s). Let's go through each operation step by step, along with Python implementations.\n",
    "\n",
    "**1. Binary Addition**\n",
    "\n",
    "Binary addition follows these rules:\n",
    "* 0+0=0\n",
    "* 0+1=1\n",
    "* 1+0=1\n",
    "* 1+1=10 (carry 1 to the next higher bit)\n",
    "\n",
    "**Example:**"
   ]
  },
  {
   "cell_type": "code",
   "execution_count": null,
   "id": "4d027825-53c7-417f-833e-0d01484c8bb7",
   "metadata": {},
   "outputs": [],
   "source": [
    "   1011  (11 in decimal)\n",
    "+  1101  (13 in decimal)\n",
    "---------\n",
    "  11000  (24 in decimal)"
   ]
  },
  {
   "cell_type": "markdown",
   "id": "b770ef22-598c-48c4-abc7-fbf876866b40",
   "metadata": {},
   "source": [
    "**Python Implementation:**"
   ]
  },
  {
   "cell_type": "code",
   "execution_count": 1,
   "id": "1925f9a0-993b-4a44-a2fa-b3920f5ed374",
   "metadata": {},
   "outputs": [
    {
     "name": "stdout",
     "output_type": "stream",
     "text": [
      "Binary Addition: 11000\n"
     ]
    }
   ],
   "source": [
    "def binary_addition(a, b):\n",
    "    # Convert binary to integers, add, and convert back to binary\n",
    "    sum_result = bin(int(a, 2) + int(b, 2))[2:]\n",
    "    return sum_result\n",
    "\n",
    "# Example\n",
    "a = \"1011\"  # 11 in decimal\n",
    "b = \"1101\"  # 13 in decimal\n",
    "print(\"Binary Addition:\", binary_addition(a, b))"
   ]
  },
  {
   "cell_type": "markdown",
   "id": "fdbc7ed5-649e-4ff4-883d-fa51093fc674",
   "metadata": {},
   "source": [
    "**2. Binary Subtraction**\n",
    "\n",
    "Binary subtraction follows these rules:\n",
    "* 0−0=0\n",
    "* 1−0=1\n",
    "* 1−1=0\n",
    "* 0−1=1 (borrow 1 from the next higher bit)\n",
    "\n",
    "**Example:**"
   ]
  },
  {
   "cell_type": "code",
   "execution_count": null,
   "id": "ca0f21f3-c378-4058-a8b8-8aec7e3428dc",
   "metadata": {},
   "outputs": [],
   "source": [
    "   1011  (11 in decimal)\n",
    "-  0101  (5 in decimal)\n",
    "---------\n",
    "   0110  (6 in decimal)"
   ]
  },
  {
   "cell_type": "markdown",
   "id": "5cc23fb5-8b84-4cf9-9142-45279fb8d4f5",
   "metadata": {},
   "source": [
    "**Python Implementation:**"
   ]
  },
  {
   "cell_type": "code",
   "execution_count": 2,
   "id": "fac0ac6f-813d-4d00-9d8e-a5f98e0a2051",
   "metadata": {},
   "outputs": [
    {
     "name": "stdout",
     "output_type": "stream",
     "text": [
      "Binary Subtraction: 110\n"
     ]
    }
   ],
   "source": [
    "def binary_subtraction(a, b):\n",
    "    # Convert binary to integers, subtract, and convert back to binary\n",
    "    diff_result = bin(int(a, 2) - int(b, 2))[2:]\n",
    "    return diff_result\n",
    "\n",
    "# Example\n",
    "a = \"1011\"  # 11 in decimal\n",
    "b = \"0101\"  # 5 in decimal\n",
    "print(\"Binary Subtraction:\", binary_subtraction(a, b))"
   ]
  },
  {
   "cell_type": "markdown",
   "id": "287724f7-6523-46d6-a5ff-494420d07d12",
   "metadata": {},
   "source": [
    "**3. Binary Multiplication**\n",
    "\n",
    "Binary multiplication follows these rules:\n",
    "\n",
    "* 0×0=0\n",
    "* 0×1=0\n",
    "* 1×0=0\n",
    "* 1×1=1\n",
    "\n",
    "It works similarly to decimal multiplication, where each bit of the second number is multiplied with the first number, and the results are shifted accordingly.\n",
    "\n",
    "**Example:**"
   ]
  },
  {
   "cell_type": "code",
   "execution_count": null,
   "id": "b6d50617-8ca0-4f83-ac64-d7c02685bd49",
   "metadata": {},
   "outputs": [],
   "source": [
    "   101  (5 in decimal)\n",
    "×  11   (3 in decimal)\n",
    "-------\n",
    "   101\n",
    "+ 1010  (Shifted left)\n",
    "-------\n",
    "  1111  (15 in decimal)"
   ]
  },
  {
   "cell_type": "markdown",
   "id": "d2a03e34-e512-4b42-a9b2-2fd188d6bff6",
   "metadata": {},
   "source": [
    "**Python Implementation:**"
   ]
  },
  {
   "cell_type": "code",
   "execution_count": 3,
   "id": "8c1071fc-130b-4377-a8fb-828134b613b4",
   "metadata": {},
   "outputs": [
    {
     "name": "stdout",
     "output_type": "stream",
     "text": [
      "Binary Multiplication: 1111\n"
     ]
    }
   ],
   "source": [
    "def binary_multiplication(a, b):\n",
    "    # Convert binary to integers, multiply, and convert back to binary\n",
    "    product_result = bin(int(a, 2) * int(b, 2))[2:]\n",
    "    return product_result\n",
    "\n",
    "# Example\n",
    "a = \"101\"   # 5 in decimal\n",
    "b = \"11\"    # 3 in decimal\n",
    "print(\"Binary Multiplication:\", binary_multiplication(a, b))"
   ]
  },
  {
   "cell_type": "markdown",
   "id": "008288b5-cf37-47be-9ba0-e6a1cbf55d2f",
   "metadata": {},
   "source": [
    "**4. Binary Division**\n",
    "\n",
    "Binary division works similarly to long division in decimal numbers.\n",
    "\n",
    "**Example:**"
   ]
  },
  {
   "cell_type": "code",
   "execution_count": null,
   "id": "deb19a07-4ba0-4885-aaf6-3186d45e3c14",
   "metadata": {},
   "outputs": [],
   "source": [
    "   1011 ÷ 11  (11 ÷ 3)"
   ]
  },
  {
   "cell_type": "markdown",
   "id": "153a0aa9-7d3f-4883-8f43-b3051dacdb54",
   "metadata": {},
   "source": [
    "* 3 goes into 11 (1011) three times.\n",
    "* The quotient is \"11\" (3 in decimal).\n",
    "* The remainder is \"10\" (2 in decimal).\n",
    "\n",
    "**Python Implementation:**"
   ]
  },
  {
   "cell_type": "code",
   "execution_count": 4,
   "id": "a6456895-4614-4552-adc9-65587a5a4c7e",
   "metadata": {},
   "outputs": [
    {
     "name": "stdout",
     "output_type": "stream",
     "text": [
      "Binary Division: Quotient = 11 , Remainder = 10\n"
     ]
    }
   ],
   "source": [
    "def binary_division(a, b):\n",
    "    # Convert binary to integers, divide, and convert back to binary\n",
    "    quotient = bin(int(a, 2) // int(b, 2))[2:]  # Quotient\n",
    "    remainder = bin(int(a, 2) % int(b, 2))[2:]  # Remainder\n",
    "    return quotient, remainder\n",
    "\n",
    "# Example\n",
    "a = \"1011\"  # 11 in decimal\n",
    "b = \"11\"    # 3 in decimal\n",
    "q, r = binary_division(a, b)\n",
    "print(\"Binary Division: Quotient =\", q, \", Remainder =\", r)"
   ]
  }
 ],
 "metadata": {
  "kernelspec": {
   "display_name": "Python 3 (ipykernel)",
   "language": "python",
   "name": "python3"
  },
  "language_info": {
   "codemirror_mode": {
    "name": "ipython",
    "version": 3
   },
   "file_extension": ".py",
   "mimetype": "text/x-python",
   "name": "python",
   "nbconvert_exporter": "python",
   "pygments_lexer": "ipython3",
   "version": "3.12.2"
  }
 },
 "nbformat": 4,
 "nbformat_minor": 5
}
