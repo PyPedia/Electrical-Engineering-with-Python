{
 "cells": [
  {
   "attachments": {
    "41470206-61be-48e8-ab21-291561ee6b3b.png": {
     "image/png": "[encoded data removed]"
    }
   },
   "cell_type": "markdown",
   "id": "069d7192-2f9c-4c8c-92d3-d75e54909983",
   "metadata": {},
   "source": [
    "**Step-by-Step Guide to XOR Gate**\n",
    "\n",
    "The XOR (Exclusive OR) Gate is a fundamental logic gate used in digital circuits. It outputs high (1) only when the inputs are different, otherwise, it outputs low (0).\n",
    "\n",
    "![032.png](attachment:41470206-61be-48e8-ab21-291561ee6b3b.png)\n",
    "\n",
    "**Step 1: Understanding XOR Gate**\n",
    "\n",
    "* Symbol: ⊕\n",
    "* Boolean Expression:\n",
    "\n",
    "$$Y=A\\oplus B$$\n",
    "\n",
    "* Truth Table:\n",
    "\n",
    "| A | B | A ⊕ B |\n",
    "| --- | --- | --- |\n",
    "| 0 | 0 | 0 |\n",
    "| 0 | 1 | 1 |\n",
    "| 1 | 0 | 1 |\n",
    "| 1 | 1 | 0 |\n",
    "\n",
    "**Step 2: Logical Expression of XOR**\n",
    "\n",
    "An XOR gate can be expressed using basic logic gates:\n",
    "\n",
    "$$Y=A\\oplus B=(A.\\overline{B})+(\\overline{A}.B)$$\n",
    "\n",
    "Where:\n",
    "\n",
    "* ⋅ represents AND\n",
    "* + represents OR\n",
    "\n",
    "**Step 3: XOR in Python**\n",
    "\n",
    "To implement XOR in Python:"
   ]
  },
  {
   "cell_type": "code",
   "execution_count": 1,
   "id": "d22e4e05-4fd9-4e03-a85a-1c2ddb683805",
   "metadata": {},
   "outputs": [
    {
     "name": "stdout",
     "output_type": "stream",
     "text": [
      "0\n",
      "1\n",
      "1\n",
      "0\n"
     ]
    }
   ],
   "source": [
    "# Define XOR function\n",
    "def xor_gate(a, b):\n",
    "    return a ^ b  # Using bitwise XOR operator\n",
    "\n",
    "# Test cases\n",
    "print(xor_gate(0, 0))  # Output: 0\n",
    "print(xor_gate(0, 1))  # Output: 1\n",
    "print(xor_gate(1, 0))  # Output: 1\n",
    "print(xor_gate(1, 1))  # Output: 0"
   ]
  }
 ],
 "metadata": {
  "kernelspec": {
   "display_name": "Python 3 (ipykernel)",
   "language": "python",
   "name": "python3"
  },
  "language_info": {
   "codemirror_mode": {
    "name": "ipython",
    "version": 3
   },
   "file_extension": ".py",
   "mimetype": "text/x-python",
   "name": "python",
   "nbconvert_exporter": "python",
   "pygments_lexer": "ipython3",
   "version": "3.12.2"
  }
 },
 "nbformat": 4,
 "nbformat_minor": 5
}
