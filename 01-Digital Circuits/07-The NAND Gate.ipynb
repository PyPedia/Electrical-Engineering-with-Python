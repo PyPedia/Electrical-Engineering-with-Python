{
 "cells": [
  {
   "attachments": {
    "57e0bd01-9a30-449c-8b69-4e2029a27a26.png": {
     "image/png": "[encoded data removed]"
    }
   },
   "cell_type": "markdown",
   "id": "c3362b3b-3bf9-40a3-befa-1e447776a24f",
   "metadata": {},
   "source": [
    "**Step 1: Understanding the NAND Gate**\n",
    "\n",
    "The NAND (NOT AND) gate is a fundamental digital logic gate that outputs false (0) only when all its inputs are true (1). In all other cases, it outputs true (1).\n",
    "\n",
    "* Symbol: The NAND gate is represented as an AND gate with a small circle (representing NOT) at the output.\n",
    "\n",
    "![030.png](attachment:57e0bd01-9a30-449c-8b69-4e2029a27a26.png)\n",
    "\n",
    "**Step 2: NAND Gate Truth Table**\n",
    "\n",
    "A NAND gate usually has two inputs and one output. The behavior of the NAND gate is defined by the following truth table:\n",
    "\n",
    "| Input A | Input B | AND Output (A ⋅ B) | NAND Output (¬(A ⋅ B)) |\n",
    "| --- | --- | --- | --- |\n",
    "| 0 | 0 | 0 | 1 |\n",
    "| 0 | 1 | 0 | 1 |\n",
    "| 1 | 0 | 0 | 1 |\n",
    "| 1 | 1 | 0 | 0 |\n",
    "\n",
    "**Step 3: Boolean Expression for NAND Gate**\n",
    "\n",
    "The Boolean algebra expression for a NAND gate is:\n",
    "\n",
    "$$Y=\\overline{A.B}$$\n",
    "\n",
    "Where:\n",
    "\n",
    "* A ⋅ B represents the AND operation.\n",
    "* Overline (¬ or bar) represents NOT (inversion of the AND result).\n",
    "\n",
    "**Step 4: Implementing NAND Gate in Python**\n",
    "\n",
    "We can simulate the NAND gate using Python:"
   ]
  },
  {
   "cell_type": "code",
   "execution_count": 1,
   "id": "f5deac90-61fd-409b-8322-aba79c47986e",
   "metadata": {},
   "outputs": [
    {
     "name": "stdout",
     "output_type": "stream",
     "text": [
      "A B | NAND Output\n",
      "-----------------\n",
      "0 0 | 1\n",
      "0 1 | 1\n",
      "1 0 | 1\n",
      "1 1 | 0\n"
     ]
    }
   ],
   "source": [
    "def NAND_gate(A, B):\n",
    "    return int(not (A and B))\n",
    "\n",
    "# Test cases\n",
    "inputs = [(0, 0), (0, 1), (1, 0), (1, 1)]\n",
    "print(\"A B | NAND Output\")\n",
    "print(\"-----------------\")\n",
    "for A, B in inputs:\n",
    "    print(A, B, \"|\", NAND_gate(A, B))"
   ]
  },
  {
   "cell_type": "code",
   "execution_count": null,
   "id": "cc6bca64-b0c3-4813-8ba6-1f33f1a615be",
   "metadata": {},
   "outputs": [],
   "source": []
  }
 ],
 "metadata": {
  "kernelspec": {
   "display_name": "Python 3 (ipykernel)",
   "language": "python",
   "name": "python3"
  },
  "language_info": {
   "codemirror_mode": {
    "name": "ipython",
    "version": 3
   },
   "file_extension": ".py",
   "mimetype": "text/x-python",
   "name": "python",
   "nbconvert_exporter": "python",
   "pygments_lexer": "ipython3",
   "version": "3.12.2"
  }
 },
 "nbformat": 4,
 "nbformat_minor": 5
}
