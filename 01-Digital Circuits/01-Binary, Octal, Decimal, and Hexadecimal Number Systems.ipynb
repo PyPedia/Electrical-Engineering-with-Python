{
 "cells": [
  {
   "cell_type": "markdown",
   "id": "66a9c598-9ff2-403f-a554-238c0a3b0aa6",
   "metadata": {},
   "source": [
    "Let's dive into the Binary, Octal, Decimal, and Hexadecimal number systems step by step with Python examples.\n",
    "\n",
    "**1. Binary System (Base 2)**\n",
    "\n",
    "In the binary system, numbers are represented using only two digits: 0 and 1.\n",
    "\n",
    "***Example: Decimal to Binary***\n",
    "\n",
    "To convert a decimal number to binary, we can use Python's built-in bin() function.\n",
    "\n",
    "***Steps:***\n",
    "\n",
    "* Take a decimal number.\n",
    "* Use the bin() function to convert it to binary.\n",
    "* The bin() function adds a 0b prefix to indicate that the number is in binary."
   ]
  },
  {
   "cell_type": "code",
   "execution_count": 1,
   "id": "8774026c-e2f9-4e83-ae7c-215826be433d",
   "metadata": {},
   "outputs": [
    {
     "name": "stdout",
     "output_type": "stream",
     "text": [
      "Decimal: 10 -> Binary: 0b1010\n"
     ]
    }
   ],
   "source": [
    "decimal_number = 10\n",
    "binary_number = bin(decimal_number)  # converts to binary\n",
    "print(f\"Decimal: {decimal_number} -> Binary: {binary_number}\")"
   ]
  },
  {
   "cell_type": "markdown",
   "id": "41090023-9d92-43d7-876c-2da5530fd909",
   "metadata": {},
   "source": [
    "***Example: Binary to Decimal***\n",
    "    \n",
    "To convert binary to decimal, use the int() function."
   ]
  },
  {
   "cell_type": "code",
   "execution_count": 2,
   "id": "680678b9-74ff-4520-8ad8-64454bff71a3",
   "metadata": {},
   "outputs": [
    {
     "name": "stdout",
     "output_type": "stream",
     "text": [
      "Binary: 1010 -> Decimal: 10\n"
     ]
    }
   ],
   "source": [
    "binary_number = \"1010\"\n",
    "decimal_number = int(binary_number, 2)  # converts from binary (base 2) to decimal\n",
    "print(f\"Binary: {binary_number} -> Decimal: {decimal_number}\")"
   ]
  },
  {
   "cell_type": "markdown",
   "id": "445ecdce-31d0-4ed7-bdab-2044a1c9f182",
   "metadata": {},
   "source": [
    "***Example: Binary to Decimal***\n",
    "\n",
    "* To convert binary to decimal, use the int() function."
   ]
  },
  {
   "cell_type": "code",
   "execution_count": 3,
   "id": "7f8e4b26-b8c4-47f6-ac56-ff561515062f",
   "metadata": {},
   "outputs": [
    {
     "name": "stdout",
     "output_type": "stream",
     "text": [
      "Binary: 1010 -> Decimal: 10\n"
     ]
    }
   ],
   "source": [
    "binary_number = \"1010\"\n",
    "decimal_number = int(binary_number, 2)  # converts from binary (base 2) to decimal\n",
    "print(f\"Binary: {binary_number} -> Decimal: {decimal_number}\")"
   ]
  },
  {
   "cell_type": "markdown",
   "id": "d7d85542-e9d6-471b-893b-b813bbb900c2",
   "metadata": {},
   "source": [
    "**2. Octal System (Base 8)**\n",
    "\n",
    "In the octal system, numbers are represented using digits from 0 to 7.\n",
    "\n",
    "***Example: Decimal to Octal***\n",
    "\n",
    "* To convert a decimal number to octal, use Python's built-in oct() function.\n",
    "* The oct() function adds a 0o prefix to indicate that the number is in octal."
   ]
  },
  {
   "cell_type": "code",
   "execution_count": 8,
   "id": "dabd2ed3-46c4-4837-b955-169ba98a1663",
   "metadata": {},
   "outputs": [
    {
     "name": "stdout",
     "output_type": "stream",
     "text": [
      "Decimal: 10 -> Octal: 0o12\n"
     ]
    }
   ],
   "source": [
    "decimal_number = 10\n",
    "octal_number = oct(decimal_number)  # converts to octal\n",
    "print(f\"Decimal: {decimal_number} -> Octal: {octal_number}\")"
   ]
  },
  {
   "cell_type": "markdown",
   "id": "a92a341f-e345-4024-996a-1f6b970e071e",
   "metadata": {},
   "source": [
    "**3. Decimal System (Base 10)**\n",
    "\n",
    "The decimal system is the standard number system that uses digits from 0 to 9.\n",
    "\n",
    "***Example: Decimal to Decimal (It's the same, no conversion needed)***"
   ]
  },
  {
   "cell_type": "code",
   "execution_count": 6,
   "id": "cae1f269-63da-44a3-bb9b-1a11ee827a5e",
   "metadata": {},
   "outputs": [
    {
     "name": "stdout",
     "output_type": "stream",
     "text": [
      "Decimal: 10\n"
     ]
    }
   ],
   "source": [
    "decimal_number = 10\n",
    "print(f\"Decimal: {decimal_number}\")"
   ]
  },
  {
   "cell_type": "markdown",
   "id": "0581ec3d-7789-45e9-8a05-6ed89f146bee",
   "metadata": {},
   "source": [
    "***Example: Decimal to Other Systems***\n",
    "\n",
    "You can use the same methods (e.g., bin(), oct(), hex()) to convert a decimal number to other bases.\n",
    "\n",
    "**4. Hexadecimal System (Base 16)**\n",
    "\n",
    "In the hexadecimal system, numbers are represented using digits from 0 to 9 and letters A to F (where A = 10, B = 11, ..., F = 15).\n",
    "\n",
    "***Example: Decimal to Hexadecimal***\n",
    "\n",
    "* To convert a decimal number to hexadecimal, use Python's built-in hex() function.\n",
    "* The hex() function adds a 0x prefix to indicate that the number is in hexadecimal."
   ]
  },
  {
   "cell_type": "code",
   "execution_count": 7,
   "id": "060e2949-5d29-4ba4-926a-afeee1520e01",
   "metadata": {},
   "outputs": [
    {
     "name": "stdout",
     "output_type": "stream",
     "text": [
      "Decimal: 10 -> Hexadecimal: 0xa\n"
     ]
    }
   ],
   "source": [
    "decimal_number = 10\n",
    "hexadecimal_number = hex(decimal_number)  # converts to hexadecimal\n",
    "print(f\"Decimal: {decimal_number} -> Hexadecimal: {hexadecimal_number}\")"
   ]
  },
  {
   "cell_type": "markdown",
   "id": "297da084-54a2-4b68-8d2a-364fd064623b",
   "metadata": {},
   "source": [
    "***Example: Hexadecimal to Decimal***\n",
    "    \n",
    "To convert hexadecimal to decimal, use the int() function with base 16."
   ]
  },
  {
   "cell_type": "code",
   "execution_count": 9,
   "id": "f2b7bdfa-16b3-4d22-bece-6d9c26c43ea9",
   "metadata": {},
   "outputs": [
    {
     "name": "stdout",
     "output_type": "stream",
     "text": [
      "Hexadecimal: a -> Decimal: 10\n"
     ]
    }
   ],
   "source": [
    "hexadecimal_number = \"a\"\n",
    "decimal_number = int(hexadecimal_number, 16)  # converts from hexadecimal (base 16) to decimal\n",
    "print(f\"Hexadecimal: {hexadecimal_number} -> Decimal: {decimal_number}\")"
   ]
  },
  {
   "cell_type": "markdown",
   "id": "bb928e4c-2500-493a-b6c2-56bdc7549640",
   "metadata": {},
   "source": [
    "**Summary of Conversion Functions:**\n",
    "\n",
    "* Decimal to Binary: bin()\n",
    "* Binary to Decimal: int(binary_string, 2)\n",
    "* Decimal to Octal: oct()\n",
    "* Octal to Decimal: int(octal_string, 8)\n",
    "* Decimal to Hexadecimal: hex()\n",
    "* Hexadecimal to Decimal: int(hex_string, 16)\n",
    "\n",
    "**Putting it all together in one example:**"
   ]
  },
  {
   "cell_type": "code",
   "execution_count": 11,
   "id": "68b6e183-54b5-40d8-9fad-033ab508bde2",
   "metadata": {},
   "outputs": [
    {
     "name": "stdout",
     "output_type": "stream",
     "text": [
      "Decimal to Binary: 20 -> 0b10100\n",
      "Binary to Decimal: 10100 -> 20\n",
      "Decimal to Octal: 20 -> 0o24\n",
      "Octal to Decimal: 24 -> 20\n",
      "Decimal to Hexadecimal: 20 -> 0x14\n",
      "Hexadecimal to Decimal: 14 -> 20\n"
     ]
    }
   ],
   "source": [
    "# Convert Decimal to Binary\n",
    "decimal_number = 20\n",
    "binary_number = bin(decimal_number)\n",
    "print(f\"Decimal to Binary: {decimal_number} -> {binary_number}\")\n",
    "\n",
    "# Convert Binary to Decimal\n",
    "binary_number = \"10100\"\n",
    "decimal_number_from_binary = int(binary_number, 2)\n",
    "print(f\"Binary to Decimal: {binary_number} -> {decimal_number_from_binary}\")\n",
    "\n",
    "# Convert Decimal to Octal\n",
    "octal_number = oct(decimal_number)\n",
    "print(f\"Decimal to Octal: {decimal_number} -> {octal_number}\")\n",
    "\n",
    "# Convert Octal to Decimal\n",
    "octal_number = \"24\"\n",
    "decimal_number_from_octal = int(octal_number, 8)\n",
    "print(f\"Octal to Decimal: {octal_number} -> {decimal_number_from_octal}\")\n",
    "\n",
    "# Convert Decimal to Hexadecimal\n",
    "hexadecimal_number = hex(decimal_number)\n",
    "print(f\"Decimal to Hexadecimal: {decimal_number} -> {hexadecimal_number}\")\n",
    "\n",
    "# Convert Hexadecimal to Decimal\n",
    "hexadecimal_number = \"14\"\n",
    "decimal_number_from_hex = int(hexadecimal_number, 16)\n",
    "print(f\"Hexadecimal to Decimal: {hexadecimal_number} -> {decimal_number_from_hex}\")"
   ]
  },
  {
   "cell_type": "code",
   "execution_count": null,
   "id": "1bee5a9c-9543-480b-9d74-cc24a0074256",
   "metadata": {},
   "outputs": [],
   "source": []
  }
 ],
 "metadata": {
  "kernelspec": {
   "display_name": "Python 3 (ipykernel)",
   "language": "python",
   "name": "python3"
  },
  "language_info": {
   "codemirror_mode": {
    "name": "ipython",
    "version": 3
   },
   "file_extension": ".py",
   "mimetype": "text/x-python",
   "name": "python",
   "nbconvert_exporter": "python",
   "pygments_lexer": "ipython3",
   "version": "3.12.2"
  }
 },
 "nbformat": 4,
 "nbformat_minor": 5
}
