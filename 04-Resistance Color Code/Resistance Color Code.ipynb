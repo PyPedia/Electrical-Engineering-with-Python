{
 "cells": [
  {
   "cell_type": "markdown",
   "id": "3ab6ce91-6c81-4ce7-80bb-6db167a37a29",
   "metadata": {},
   "source": [
    "**Step 1: Understand the Basics**\n",
    "\n",
    "The resistance color code is a system used to identify the resistance value and tolerance of resistors. The code uses colored bands printed on the resistor body. These colors correspond to numerical values and multipliers.\n",
    "\n",
    "**Step 2: Learn the Band Positions**\n",
    "\n",
    "* First Band: Represents the first significant digit of the resistance value.\n",
    "* Second Band: Represents the second significant digit of the resistance value.\n",
    "* Third Band: Acts as a multiplier (power of 10).\n",
    "* Fourth Band: Indicates the tolerance of the resistor.\n",
    "\n",
    "**Step 3: Familiarize Yourself with the Color Table**\n",
    "\n",
    "The color code table maps colors to numerical values, as shown in your image. Here’s a simplified version:\n",
    "\n",
    "| Color | Digit | Multiplier (Power of 10) | Tolerance |\n",
    "| --- | --- | --- | --- |\n",
    "| Black | 0 | 10<sup>0</sup> | — |\n",
    "| Brown | 1 | 10<sup>1</sup> | ±1% |\n",
    "| Red | 2 | 10<sup>2</sup> | ±2% |\n",
    "| Orange | 3 | 10<sup>3</sup> | — |\n",
    "| Yellow | 4 | 10<sup>4</sup> | — |\n",
    "| Green | 5 | 10<sup>5</sup> | ±0.5% |\n",
    "| Blue | 6 | 10<sup>6</sup> | ±0.25% |\n",
    "| Violet | 7 | 10<sup>7</sup> | ±0.1% |\n",
    "| Gray | 8 | 10<sup>8</sup> | ±0.05% |\n",
    "| White | 9 | 10<sup>9</sup> | — |\n",
    "| Gold | — | 10<sup>-1</sup> | ±5% |\n",
    "| Silver | — | 10<sup>-2</sup> | ±10% |\n",
    "\n",
    "**Example:**\n",
    "\n",
    "A resistor with bands Red, Violet, Orange, and Gold:\n",
    "* Red (2), Violet (7) → Significant digits = 27\n",
    "* Orange (10<sup>3</sup>) → Multiplier = 1000\n",
    "* Gold → Tolerance = ±5%\n",
    "* Resistance = 27×1000=27,000Ω (27 𝑘Ω), tolerance ±5%.\n",
    "\n",
    "**Python Code**\n",
    "\n",
    "Here’s a Python code snippet that calculates the resistance based on user input for the color code: |"
   ]
  },
  {
   "cell_type": "code",
   "execution_count": 2,
   "id": "ceed4952-877a-408e-9d2d-a34b6b2586c1",
   "metadata": {},
   "outputs": [
    {
     "name": "stdout",
     "output_type": "stream",
     "text": [
      "Enter the colors of the resistor bands in sequence:\n"
     ]
    },
    {
     "name": "stdin",
     "output_type": "stream",
     "text": [
      "First band (significant digit):  red\n",
      "Second band (significant digit):  violet\n",
      "Third band (multiplier):  orange\n",
      "Fourth band (tolerance):  gold\n"
     ]
    },
    {
     "name": "stdout",
     "output_type": "stream",
     "text": [
      "Resistance: 27000 Ω ±5%\n"
     ]
    }
   ],
   "source": [
    "# Resistance color code dictionary\n",
    "color_codes = {\n",
    "    \"black\": 0, \"brown\": 1, \"red\": 2, \"orange\": 3, \"yellow\": 4,\n",
    "    \"green\": 5, \"blue\": 6, \"violet\": 7, \"gray\": 8, \"white\": 9\n",
    "}\n",
    "\n",
    "multipliers = {\n",
    "    \"black\": 1, \"brown\": 10, \"red\": 100, \"orange\": 1_000, \"yellow\": 10_000,\n",
    "    \"green\": 100_000, \"blue\": 1_000_000, \"violet\": 10_000_000,\n",
    "    \"gray\": 100_000_000, \"white\": 1_000_000_000, \"gold\": 0.1, \"silver\": 0.01\n",
    "}\n",
    "\n",
    "tolerances = {\n",
    "    \"brown\": \"±1%\", \"red\": \"±2%\", \"green\": \"±0.5%\", \"blue\": \"±0.25%\",\n",
    "    \"violet\": \"±0.1%\", \"gray\": \"±0.05%\", \"gold\": \"±5%\", \"silver\": \"±10%\", None: \"±20%\"\n",
    "}\n",
    "\n",
    "# Function to calculate resistance\n",
    "def calculate_resistance():\n",
    "    print(\"Enter the colors of the resistor bands in sequence:\")\n",
    "    band1 = input(\"First band (significant digit): \").strip().lower()\n",
    "    band2 = input(\"Second band (significant digit): \").strip().lower()\n",
    "    band3 = input(\"Third band (multiplier): \").strip().lower()\n",
    "    band4 = input(\"Fourth band (tolerance): \").strip().lower()\n",
    "    \n",
    "    if band1 not in color_codes or band2 not in color_codes or band3 not in multipliers:\n",
    "        print(\"Invalid color input. Please check your colors and try again.\")\n",
    "        return\n",
    "    \n",
    "    # Get the values for the bands\n",
    "    significant_digits = color_codes[band1] * 10 + color_codes[band2]\n",
    "    multiplier = multipliers.get(band3, 1)\n",
    "    tolerance = tolerances.get(band4, \"±20%\")\n",
    "    \n",
    "    # Calculate resistance\n",
    "    resistance = significant_digits * multiplier\n",
    "    print(f\"Resistance: {resistance} Ω {tolerance}\")\n",
    "\n",
    "# Run the program\n",
    "if __name__ == \"__main__\":\n",
    "    calculate_resistance()"
   ]
  }
 ],
 "metadata": {
  "kernelspec": {
   "display_name": "Python 3 (ipykernel)",
   "language": "python",
   "name": "python3"
  },
  "language_info": {
   "codemirror_mode": {
    "name": "ipython",
    "version": 3
   },
   "file_extension": ".py",
   "mimetype": "text/x-python",
   "name": "python",
   "nbconvert_exporter": "python",
   "pygments_lexer": "ipython3",
   "version": "3.12.2"
  }
 },
 "nbformat": 4,
 "nbformat_minor": 5
}
